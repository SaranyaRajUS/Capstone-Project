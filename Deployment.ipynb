{
 "cells": [
  {
   "cell_type": "code",
   "execution_count": 106,
   "id": "2768d72e",
   "metadata": {},
   "outputs": [],
   "source": [
    "import pandas as pd\n",
    "import numpy as np\n",
    "import pickle\n",
    "from sklearn.preprocessing import LabelEncoder\n",
    "from sklearn.feature_selection import SelectKBest, f_classif\n",
    "from sklearn.model_selection import train_test_split"
   ]
  },
  {
   "cell_type": "code",
   "execution_count": 123,
   "id": "e7ca4f7c",
   "metadata": {},
   "outputs": [],
   "source": [
    "with open(\"best_model.pkl\", \"rb\") as f:\n",
    "    model = pickle.load(f)"
   ]
  },
  {
   "cell_type": "code",
   "execution_count": 124,
   "id": "81512cbd",
   "metadata": {},
   "outputs": [],
   "source": [
    "df = pd.read_csv(\"student_igcse_dataset.csv\")\n",
    "df = df.drop(columns=['student_id'])  "
   ]
  },
  {
   "cell_type": "code",
   "execution_count": 125,
   "id": "850c47ef",
   "metadata": {},
   "outputs": [],
   "source": [
    "categorical_cols = df.select_dtypes(include='object').columns.tolist()\n",
    "df = pd.get_dummies(df, columns=categorical_cols, drop_first=True)"
   ]
  },
  {
   "cell_type": "code",
   "execution_count": 126,
   "id": "868a3159",
   "metadata": {},
   "outputs": [],
   "source": [
    "X = df.drop(columns=[\"high_IGCSE_performance\"])\n",
    "y = df[\"high_IGCSE_performance\"]"
   ]
  },
  {
   "cell_type": "code",
   "execution_count": 127,
   "id": "c88b241b",
   "metadata": {},
   "outputs": [
    {
     "data": {
      "text/plain": [
       "SelectKBest()"
      ]
     },
     "execution_count": 127,
     "metadata": {},
     "output_type": "execute_result"
    }
   ],
   "source": [
    "from sklearn.feature_selection import SelectKBest, f_classif\n",
    "selector = SelectKBest(score_func=f_classif, k=10)\n",
    "selector.fit(X, y)"
   ]
  },
  {
   "cell_type": "code",
   "execution_count": 128,
   "id": "aea13109",
   "metadata": {},
   "outputs": [],
   "source": [
    "selected_columns = X.columns[selector.get_support()]"
   ]
  },
  {
   "cell_type": "code",
   "execution_count": 145,
   "id": "25a634fe",
   "metadata": {},
   "outputs": [],
   "source": [
    "input_data = {\n",
    "    'attention_span_score': 2,\n",
    "    'social_skills_score': 2,\n",
    "    'cognitive_test_score': 110,\n",
    "    'has_learning_difficulty': 1,\n",
    "    'parental_involvement_score': 5,\n",
    "    'entry_grade_2nd': 1,\n",
    "    'entry_grade_3rd':1,\n",
    "    'gender_Male ':1,\n",
    "    'parent_education_High School':1,\n",
    "    'parent_education_Masters': 1\n",
    "}"
   ]
  },
  {
   "cell_type": "code",
   "execution_count": 146,
   "id": "55f392ce",
   "metadata": {},
   "outputs": [],
   "source": [
    "input_df = pd.DataFrame([input_data])"
   ]
  },
  {
   "cell_type": "code",
   "execution_count": 147,
   "id": "e9aa8e41",
   "metadata": {},
   "outputs": [],
   "source": [
    "for col in X.columns:\n",
    "    if col not in input_df.columns:\n",
    "        input_df[col] = 0"
   ]
  },
  {
   "cell_type": "code",
   "execution_count": 148,
   "id": "5350ee28",
   "metadata": {},
   "outputs": [],
   "source": [
    "input_df = input_df[X.columns]"
   ]
  },
  {
   "cell_type": "code",
   "execution_count": 149,
   "id": "b57254ad",
   "metadata": {},
   "outputs": [],
   "source": [
    "input_selected = selector.transform(input_df)"
   ]
  },
  {
   "cell_type": "code",
   "execution_count": 150,
   "id": "eab45639",
   "metadata": {},
   "outputs": [
    {
     "name": "stdout",
     "output_type": "stream",
     "text": [
      "Prediction: High Performer\n"
     ]
    }
   ],
   "source": [
    "prediction = model.predict(input_selected)[0]\n",
    "result = \"High Performer\" if prediction == 1 else \"Low Performer\"\n",
    "print(\"Prediction:\", result)"
   ]
  },
  {
   "cell_type": "code",
   "execution_count": null,
   "id": "9aedeac9",
   "metadata": {},
   "outputs": [],
   "source": []
  }
 ],
 "metadata": {
  "kernelspec": {
   "display_name": "Python 3 (ipykernel)",
   "language": "python",
   "name": "python3"
  },
  "language_info": {
   "codemirror_mode": {
    "name": "ipython",
    "version": 3
   },
   "file_extension": ".py",
   "mimetype": "text/x-python",
   "name": "python",
   "nbconvert_exporter": "python",
   "pygments_lexer": "ipython3",
   "version": "3.7.1"
  }
 },
 "nbformat": 4,
 "nbformat_minor": 5
}
