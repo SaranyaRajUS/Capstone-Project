{
 "cells": [
  {
   "cell_type": "code",
   "execution_count": 16,
   "id": "2768d72e",
   "metadata": {},
   "outputs": [],
   "source": [
    "import pandas as pd\n",
    "import numpy as np\n",
    "import pickle"
   ]
  },
  {
   "cell_type": "code",
   "execution_count": 17,
   "id": "e7ca4f7c",
   "metadata": {},
   "outputs": [],
   "source": [
    "from sklearn.preprocessing import LabelEncoder\n",
    "from sklearn.feature_selection import SelectKBest, f_classif\n",
    "from sklearn.model_selection import train_test_split\n",
    "from sklearn.linear_model import LogisticRegression\n",
    "from sklearn.svm import SVC\n",
    "from sklearn.neighbors import KNeighborsClassifier\n",
    "from sklearn.naive_bayes import GaussianNB\n",
    "from sklearn.tree import DecisionTreeClassifier\n",
    "from sklearn.ensemble import RandomForestClassifier"
   ]
  },
  {
   "cell_type": "code",
   "execution_count": 33,
   "id": "81512cbd",
   "metadata": {},
   "outputs": [],
   "source": [
    "with open(\"best_model.pkl\", \"rb\") as f:\n",
    "    model = pickle.load(f)\n",
    "\n",
    "with open(\"feature_selector.pkl\", \"rb\") as f:\n",
    "    selector = pickle.load(f)\n",
    "\n",
    "with open(\"feature_columns.pkl\", \"rb\") as f:\n",
    "    original_columns = pickle.load(f)"
   ]
  },
  {
   "cell_type": "code",
   "execution_count": 34,
   "id": "850c47ef",
   "metadata": {},
   "outputs": [],
   "source": [
    "df = pd.read_csv(\"student_igcse_dataset.csv\")\n",
    "df = df.drop(columns=['student_id'])"
   ]
  },
  {
   "cell_type": "code",
   "execution_count": 35,
   "id": "868a3159",
   "metadata": {},
   "outputs": [],
   "source": [
    "categorical_cols = df.select_dtypes(include='object').columns.tolist()\n",
    "df = pd.get_dummies(df, columns=categorical_cols, drop_first=True)"
   ]
  },
  {
   "cell_type": "code",
   "execution_count": 36,
   "id": "ae081af4",
   "metadata": {},
   "outputs": [],
   "source": [
    "X = df.drop(columns=[\"high_IGCSE_performance\"])\n",
    "y = df[\"high_IGCSE_performance\"]"
   ]
  },
  {
   "cell_type": "code",
   "execution_count": 37,
   "id": "11e98268",
   "metadata": {},
   "outputs": [],
   "source": [
    "input_data = {\n",
    "    'attention_span_score': 2,\n",
    "    'social_skills_score': 2,\n",
    "    'cognitive_test_score': 110,\n",
    "    'has_learning_difficulty': 1,\n",
    "    'parental_involvement_score': 5,\n",
    "    'entry_grade_2nd': 1,\n",
    "    'entry_grade_3rd': 1,\n",
    "    'gender_Male': 1,\n",
    "    'parent_education_High School': 1,\n",
    "    'parent_education_Masters': 1\n",
    "}\n",
    "input_df = pd.DataFrame([input_data])"
   ]
  },
  {
   "cell_type": "code",
   "execution_count": 38,
   "id": "25a634fe",
   "metadata": {},
   "outputs": [],
   "source": [
    "for col in original_columns:\n",
    "    if col not in input_df.columns:\n",
    "        input_df[col] = 0\n",
    "input_df = input_df[original_columns]"
   ]
  },
  {
   "cell_type": "code",
   "execution_count": 39,
   "id": "55f392ce",
   "metadata": {},
   "outputs": [],
   "source": [
    "input_selected = selector.transform(input_df)\n",
    "prediction = model.predict(input_selected)[0]"
   ]
  },
  {
   "cell_type": "code",
   "execution_count": 11,
   "id": "e9aa8e41",
   "metadata": {},
   "outputs": [],
   "source": [
    "for col in original_columns:\n",
    "    if col not in input_df.columns:\n",
    "        input_df[col] = 0"
   ]
  },
  {
   "cell_type": "code",
   "execution_count": 40,
   "id": "5350ee28",
   "metadata": {},
   "outputs": [],
   "source": [
    "input_df = input_df[X.columns]"
   ]
  },
  {
   "cell_type": "code",
   "execution_count": 41,
   "id": "b57254ad",
   "metadata": {},
   "outputs": [
    {
     "name": "stdout",
     "output_type": "stream",
     "text": [
      "Prediction: High Performer\n"
     ]
    }
   ],
   "source": [
    "result = \"High Performer\" if prediction == 1 else \"Low Performer\"\n",
    "print(\"Prediction:\", result)"
   ]
  },
  {
   "cell_type": "code",
   "execution_count": null,
   "id": "9aedeac9",
   "metadata": {},
   "outputs": [],
   "source": []
  }
 ],
 "metadata": {
  "kernelspec": {
   "display_name": "Python 3 (ipykernel)",
   "language": "python",
   "name": "python3"
  },
  "language_info": {
   "codemirror_mode": {
    "name": "ipython",
    "version": 3
   },
   "file_extension": ".py",
   "mimetype": "text/x-python",
   "name": "python",
   "nbconvert_exporter": "python",
   "pygments_lexer": "ipython3",
   "version": "3.7.1"
  }
 },
 "nbformat": 4,
 "nbformat_minor": 5
}
